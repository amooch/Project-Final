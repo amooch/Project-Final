{
 "cells": [
  {
   "cell_type": "code",
   "execution_count": 3,
   "id": "af560a65",
   "metadata": {},
   "outputs": [
    {
     "name": "stdout",
     "output_type": "stream",
     "text": [
      "Collecting foliumNote: you may need to restart the kernel to use updated packages.\n",
      "\n",
      "  Using cached folium-0.17.0-py2.py3-none-any.whl.metadata (3.8 kB)\n",
      "Collecting branca>=0.6.0 (from folium)\n",
      "  Using cached branca-0.7.2-py3-none-any.whl.metadata (1.5 kB)\n",
      "Requirement already satisfied: jinja2>=2.9 in c:\\programdata\\anaconda3\\lib\\site-packages (from folium) (3.1.4)\n",
      "Requirement already satisfied: numpy in c:\\programdata\\anaconda3\\lib\\site-packages (from folium) (1.26.4)\n",
      "Requirement already satisfied: requests in c:\\programdata\\anaconda3\\lib\\site-packages (from folium) (2.32.2)\n",
      "Requirement already satisfied: xyzservices in c:\\programdata\\anaconda3\\lib\\site-packages (from folium) (2022.9.0)\n",
      "Requirement already satisfied: MarkupSafe>=2.0 in c:\\programdata\\anaconda3\\lib\\site-packages (from jinja2>=2.9->folium) (2.1.3)\n",
      "Requirement already satisfied: charset-normalizer<4,>=2 in c:\\programdata\\anaconda3\\lib\\site-packages (from requests->folium) (2.0.4)\n",
      "Requirement already satisfied: idna<4,>=2.5 in c:\\programdata\\anaconda3\\lib\\site-packages (from requests->folium) (3.7)\n",
      "Requirement already satisfied: urllib3<3,>=1.21.1 in c:\\programdata\\anaconda3\\lib\\site-packages (from requests->folium) (2.2.2)\n",
      "Requirement already satisfied: certifi>=2017.4.17 in c:\\programdata\\anaconda3\\lib\\site-packages (from requests->folium) (2024.7.4)\n",
      "Using cached folium-0.17.0-py2.py3-none-any.whl (108 kB)\n",
      "Using cached branca-0.7.2-py3-none-any.whl (25 kB)\n",
      "Installing collected packages: branca, folium\n",
      "Successfully installed branca-0.7.2 folium-0.17.0\n"
     ]
    }
   ],
   "source": [
    "pip install folium"
   ]
  },
  {
   "cell_type": "code",
   "execution_count": 7,
   "id": "1c10b8db",
   "metadata": {},
   "outputs": [],
   "source": [
    "import folium"
   ]
  },
  {
   "cell_type": "code",
   "execution_count": 9,
   "id": "b6be88ff",
   "metadata": {},
   "outputs": [],
   "source": [
    "import pandas as pd"
   ]
  },
  {
   "cell_type": "code",
   "execution_count": 11,
   "id": "879b64b5",
   "metadata": {},
   "outputs": [],
   "source": [
    "import csv"
   ]
  },
  {
   "cell_type": "code",
   "execution_count": 13,
   "id": "494ea39b",
   "metadata": {},
   "outputs": [],
   "source": [
    "# Read the bike share data from the CSV file and preprocess:"
   ]
  },
  {
   "cell_type": "code",
   "execution_count": 15,
   "id": "95a54800",
   "metadata": {},
   "outputs": [],
   "source": [
    "df = pd.read_csv('tripdata.csv')"
   ]
  },
  {
   "cell_type": "code",
   "execution_count": 16,
   "id": "b73bd2cf",
   "metadata": {},
   "outputs": [],
   "source": [
    "# Extract the start station details and count the number of rides"
   ]
  },
  {
   "cell_type": "code",
   "execution_count": 19,
   "id": "5f682f93",
   "metadata": {},
   "outputs": [],
   "source": [
    "start_stations = df.groupby(['start_station_id', 'start_station_name', 'start_station_latitude', 'start_station_longitude']).size().reset_index(name='num_rides')"
   ]
  },
  {
   "cell_type": "code",
   "execution_count": 9,
   "id": "9c30a583",
   "metadata": {},
   "outputs": [],
   "source": [
    "# Rename columns for consistency"
   ]
  },
  {
   "cell_type": "code",
   "execution_count": 10,
   "id": "add20864",
   "metadata": {},
   "outputs": [],
   "source": [
    "start_stations.columns = ['station_id', 'station_name', 'latitude', 'longitude', 'num_rides']"
   ]
  },
  {
   "cell_type": "code",
   "execution_count": 11,
   "id": "19e17f3c",
   "metadata": {},
   "outputs": [],
   "source": [
    "# Analyze the bike share data:"
   ]
  },
  {
   "cell_type": "code",
   "execution_count": 12,
   "id": "ed82f368",
   "metadata": {},
   "outputs": [],
   "source": [
    "most_popular_station = start_stations.loc[start_stations['num_rides'].idxmax()]\n",
    "least_popular_station = start_stations.loc[start_stations['num_rides'].idxmin()]\n",
    "average_rides_per_station = start_stations['num_rides'].mean()"
   ]
  },
  {
   "cell_type": "code",
   "execution_count": 13,
   "id": "90498611",
   "metadata": {},
   "outputs": [
    {
     "name": "stdout",
     "output_type": "stream",
     "text": [
      "Most popular station: Market St at 10th St with 3904 rides\n",
      "Least popular station: 16th St Depot with 2 rides\n",
      "Average number of rides per station: 556.8844984802431\n"
     ]
    }
   ],
   "source": [
    "print(\"Most popular station:\", most_popular_station['station_name'], \"with\", most_popular_station['num_rides'], \"rides\")\n",
    "print(\"Least popular station:\", least_popular_station['station_name'], \"with\", least_popular_station['num_rides'], \"rides\")\n",
    "print(\"Average number of rides per station:\", average_rides_per_station)\n"
   ]
  },
  {
   "cell_type": "code",
   "execution_count": 14,
   "id": "4dd22eb8",
   "metadata": {},
   "outputs": [],
   "source": [
    "# Create a folium map to visualize the bike share data:"
   ]
  },
  {
   "cell_type": "code",
   "execution_count": 55,
   "id": "b2f7cb2c-3ac2-4aab-905c-525879005825",
   "metadata": {},
   "outputs": [],
   "source": [
    "import folium"
   ]
  },
  {
   "cell_type": "code",
   "execution_count": 57,
   "id": "8eca7de9-dc72-40a0-9765-6ddbf896b105",
   "metadata": {},
   "outputs": [],
   "source": [
    "map_center = [37.77, -122.42]  # San Francisco, CA"
   ]
  },
  {
   "cell_type": "code",
   "execution_count": 59,
   "id": "46163b9b-14a0-427d-b6ea-093ac2084927",
   "metadata": {},
   "outputs": [],
   "source": [
    "bike_map = folium.Map(location=map_center, zoom_start=12)"
   ]
  },
  {
   "cell_type": "code",
   "execution_count": 61,
   "id": "76825d66-3cab-42fc-af95-a391f9d16864",
   "metadata": {},
   "outputs": [],
   "source": [
    "# Plot the bike share station data on the map:"
   ]
  },
  {
   "cell_type": "code",
   "execution_count": 63,
   "id": "2055cfec-b6e4-4db5-b704-dd18a91ab01c",
   "metadata": {},
   "outputs": [],
   "source": [
    "def get_marker_color(num_rides):\n",
    "    if num_rides < 1000:\n",
    "        return 'green'\n",
    "    elif num_rides < 5000:\n",
    "        return 'orange'\n",
    "    else:\n",
    "        return 'red'"
   ]
  },
  {
   "cell_type": "code",
   "execution_count": 65,
   "id": "12271850-b17e-4f93-8824-f4d41e27b867",
   "metadata": {},
   "outputs": [],
   "source": [
    "# Iterate through each row in the start_stations DataFrame\n",
    "# Get the appropriate marker color based on the number of rides for the current station"
   ]
  },
  {
   "cell_type": "code",
   "execution_count": 67,
   "id": "0866aa54-4719-4383-abc2-4e96b9056dae",
   "metadata": {},
   "outputs": [],
   "source": [
    "for _, row in start_stations.iterrows(): marker_color = get_marker_color(row['num_rides'])"
   ]
  },
  {
   "cell_type": "code",
   "execution_count": 69,
   "id": "1265d3b1-08f6-49ec-a689-6db79e4ccba3",
   "metadata": {},
   "outputs": [],
   "source": [
    "# Create a folium Marker object with the station's latitude and longitude coordinates"
   ]
  },
  {
   "cell_type": "code",
   "execution_count": 73,
   "id": "aafef1cc-3925-43ab-98f7-94eb3b69482c",
   "metadata": {},
   "outputs": [
    {
     "ename": "KeyError",
     "evalue": "'latitude'",
     "output_type": "error",
     "traceback": [
      "\u001b[1;31m---------------------------------------------------------------------------\u001b[0m",
      "\u001b[1;31mKeyError\u001b[0m                                  Traceback (most recent call last)",
      "File \u001b[1;32mC:\\ProgramData\\anaconda3\\Lib\\site-packages\\pandas\\core\\indexes\\base.py:3805\u001b[0m, in \u001b[0;36mIndex.get_loc\u001b[1;34m(self, key)\u001b[0m\n\u001b[0;32m   3804\u001b[0m \u001b[38;5;28;01mtry\u001b[39;00m:\n\u001b[1;32m-> 3805\u001b[0m     \u001b[38;5;28;01mreturn\u001b[39;00m \u001b[38;5;28mself\u001b[39m\u001b[38;5;241m.\u001b[39m_engine\u001b[38;5;241m.\u001b[39mget_loc(casted_key)\n\u001b[0;32m   3806\u001b[0m \u001b[38;5;28;01mexcept\u001b[39;00m \u001b[38;5;167;01mKeyError\u001b[39;00m \u001b[38;5;28;01mas\u001b[39;00m err:\n",
      "File \u001b[1;32mindex.pyx:167\u001b[0m, in \u001b[0;36mpandas._libs.index.IndexEngine.get_loc\u001b[1;34m()\u001b[0m\n",
      "File \u001b[1;32mindex.pyx:196\u001b[0m, in \u001b[0;36mpandas._libs.index.IndexEngine.get_loc\u001b[1;34m()\u001b[0m\n",
      "File \u001b[1;32mpandas\\\\_libs\\\\hashtable_class_helper.pxi:7081\u001b[0m, in \u001b[0;36mpandas._libs.hashtable.PyObjectHashTable.get_item\u001b[1;34m()\u001b[0m\n",
      "File \u001b[1;32mpandas\\\\_libs\\\\hashtable_class_helper.pxi:7089\u001b[0m, in \u001b[0;36mpandas._libs.hashtable.PyObjectHashTable.get_item\u001b[1;34m()\u001b[0m\n",
      "\u001b[1;31mKeyError\u001b[0m: 'latitude'",
      "\nThe above exception was the direct cause of the following exception:\n",
      "\u001b[1;31mKeyError\u001b[0m                                  Traceback (most recent call last)",
      "Cell \u001b[1;32mIn[73], line 2\u001b[0m\n\u001b[0;32m      1\u001b[0m marker \u001b[38;5;241m=\u001b[39m folium\u001b[38;5;241m.\u001b[39mMarker(\n\u001b[1;32m----> 2\u001b[0m        location\u001b[38;5;241m=\u001b[39m[row[\u001b[38;5;124m'\u001b[39m\u001b[38;5;124mlatitude\u001b[39m\u001b[38;5;124m'\u001b[39m], row[\u001b[38;5;124m'\u001b[39m\u001b[38;5;124mlongitude\u001b[39m\u001b[38;5;124m'\u001b[39m]],  \u001b[38;5;66;03m# Marker location\u001b[39;00m\n\u001b[0;32m      3\u001b[0m        icon\u001b[38;5;241m=\u001b[39mfolium\u001b[38;5;241m.\u001b[39mIcon(color\u001b[38;5;241m=\u001b[39mmarker_color),  \u001b[38;5;66;03m# Custom marker color based on the number of rides\u001b[39;00m\n\u001b[0;32m      4\u001b[0m        popup\u001b[38;5;241m=\u001b[39m\u001b[38;5;124mf\u001b[39m\u001b[38;5;124m\"\u001b[39m\u001b[38;5;124mStation: \u001b[39m\u001b[38;5;132;01m{\u001b[39;00mrow[\u001b[38;5;124m'\u001b[39m\u001b[38;5;124mstation_name\u001b[39m\u001b[38;5;124m'\u001b[39m]\u001b[38;5;132;01m}\u001b[39;00m\u001b[38;5;124m<br>Rides: \u001b[39m\u001b[38;5;132;01m{\u001b[39;00mrow[\u001b[38;5;124m'\u001b[39m\u001b[38;5;124mnum_rides\u001b[39m\u001b[38;5;124m'\u001b[39m]\u001b[38;5;132;01m}\u001b[39;00m\u001b[38;5;124m\"\u001b[39m \u001b[38;5;66;03m# Set the popup content to display the station name and number of rides\u001b[39;00m\n\u001b[0;32m      5\u001b[0m    )\n",
      "File \u001b[1;32mC:\\ProgramData\\anaconda3\\Lib\\site-packages\\pandas\\core\\series.py:1121\u001b[0m, in \u001b[0;36mSeries.__getitem__\u001b[1;34m(self, key)\u001b[0m\n\u001b[0;32m   1118\u001b[0m     \u001b[38;5;28;01mreturn\u001b[39;00m \u001b[38;5;28mself\u001b[39m\u001b[38;5;241m.\u001b[39m_values[key]\n\u001b[0;32m   1120\u001b[0m \u001b[38;5;28;01melif\u001b[39;00m key_is_scalar:\n\u001b[1;32m-> 1121\u001b[0m     \u001b[38;5;28;01mreturn\u001b[39;00m \u001b[38;5;28mself\u001b[39m\u001b[38;5;241m.\u001b[39m_get_value(key)\n\u001b[0;32m   1123\u001b[0m \u001b[38;5;66;03m# Convert generator to list before going through hashable part\u001b[39;00m\n\u001b[0;32m   1124\u001b[0m \u001b[38;5;66;03m# (We will iterate through the generator there to check for slices)\u001b[39;00m\n\u001b[0;32m   1125\u001b[0m \u001b[38;5;28;01mif\u001b[39;00m is_iterator(key):\n",
      "File \u001b[1;32mC:\\ProgramData\\anaconda3\\Lib\\site-packages\\pandas\\core\\series.py:1237\u001b[0m, in \u001b[0;36mSeries._get_value\u001b[1;34m(self, label, takeable)\u001b[0m\n\u001b[0;32m   1234\u001b[0m     \u001b[38;5;28;01mreturn\u001b[39;00m \u001b[38;5;28mself\u001b[39m\u001b[38;5;241m.\u001b[39m_values[label]\n\u001b[0;32m   1236\u001b[0m \u001b[38;5;66;03m# Similar to Index.get_value, but we do not fall back to positional\u001b[39;00m\n\u001b[1;32m-> 1237\u001b[0m loc \u001b[38;5;241m=\u001b[39m \u001b[38;5;28mself\u001b[39m\u001b[38;5;241m.\u001b[39mindex\u001b[38;5;241m.\u001b[39mget_loc(label)\n\u001b[0;32m   1239\u001b[0m \u001b[38;5;28;01mif\u001b[39;00m is_integer(loc):\n\u001b[0;32m   1240\u001b[0m     \u001b[38;5;28;01mreturn\u001b[39;00m \u001b[38;5;28mself\u001b[39m\u001b[38;5;241m.\u001b[39m_values[loc]\n",
      "File \u001b[1;32mC:\\ProgramData\\anaconda3\\Lib\\site-packages\\pandas\\core\\indexes\\base.py:3812\u001b[0m, in \u001b[0;36mIndex.get_loc\u001b[1;34m(self, key)\u001b[0m\n\u001b[0;32m   3807\u001b[0m     \u001b[38;5;28;01mif\u001b[39;00m \u001b[38;5;28misinstance\u001b[39m(casted_key, \u001b[38;5;28mslice\u001b[39m) \u001b[38;5;129;01mor\u001b[39;00m (\n\u001b[0;32m   3808\u001b[0m         \u001b[38;5;28misinstance\u001b[39m(casted_key, abc\u001b[38;5;241m.\u001b[39mIterable)\n\u001b[0;32m   3809\u001b[0m         \u001b[38;5;129;01mand\u001b[39;00m \u001b[38;5;28many\u001b[39m(\u001b[38;5;28misinstance\u001b[39m(x, \u001b[38;5;28mslice\u001b[39m) \u001b[38;5;28;01mfor\u001b[39;00m x \u001b[38;5;129;01min\u001b[39;00m casted_key)\n\u001b[0;32m   3810\u001b[0m     ):\n\u001b[0;32m   3811\u001b[0m         \u001b[38;5;28;01mraise\u001b[39;00m InvalidIndexError(key)\n\u001b[1;32m-> 3812\u001b[0m     \u001b[38;5;28;01mraise\u001b[39;00m \u001b[38;5;167;01mKeyError\u001b[39;00m(key) \u001b[38;5;28;01mfrom\u001b[39;00m \u001b[38;5;21;01merr\u001b[39;00m\n\u001b[0;32m   3813\u001b[0m \u001b[38;5;28;01mexcept\u001b[39;00m \u001b[38;5;167;01mTypeError\u001b[39;00m:\n\u001b[0;32m   3814\u001b[0m     \u001b[38;5;66;03m# If we have a listlike key, _check_indexing_error will raise\u001b[39;00m\n\u001b[0;32m   3815\u001b[0m     \u001b[38;5;66;03m#  InvalidIndexError. Otherwise we fall through and re-raise\u001b[39;00m\n\u001b[0;32m   3816\u001b[0m     \u001b[38;5;66;03m#  the TypeError.\u001b[39;00m\n\u001b[0;32m   3817\u001b[0m     \u001b[38;5;28mself\u001b[39m\u001b[38;5;241m.\u001b[39m_check_indexing_error(key)\n",
      "\u001b[1;31mKeyError\u001b[0m: 'latitude'"
     ]
    }
   ],
   "source": [
    " marker = folium.Marker(\n",
    "        location=[row['latitude'], row['longitude']],  # Marker location\n",
    "        icon=folium.Icon(color=marker_color),  # Custom marker color based on the number of rides\n",
    "        popup=f\"Station: {row['station_name']}<br>Rides: {row['num_rides']}\" # Set the popup content to display the station name and number of rides\n",
    "    )"
   ]
  },
  {
   "cell_type": "code",
   "execution_count": 49,
   "id": "c67bee5f-8c44-4163-acd8-d6b733adec43",
   "metadata": {},
   "outputs": [],
   "source": [
    " # Add the marker to the bike_map"
   ]
  },
  {
   "cell_type": "code",
   "execution_count": 51,
   "id": "b17043d6-b554-4eb6-b139-c48c5329f819",
   "metadata": {},
   "outputs": [
    {
     "ename": "NameError",
     "evalue": "name 'marker' is not defined",
     "output_type": "error",
     "traceback": [
      "\u001b[1;31m---------------------------------------------------------------------------\u001b[0m",
      "\u001b[1;31mNameError\u001b[0m                                 Traceback (most recent call last)",
      "Cell \u001b[1;32mIn[51], line 1\u001b[0m\n\u001b[1;32m----> 1\u001b[0m marker\u001b[38;5;241m.\u001b[39madd_to(bike_map)\n",
      "\u001b[1;31mNameError\u001b[0m: name 'marker' is not defined"
     ]
    }
   ],
   "source": [
    " marker.add_to(bike_map)"
   ]
  },
  {
   "cell_type": "code",
   "execution_count": null,
   "id": "bdb66b28-ff8d-4a15-ad1c-3c9027e8296b",
   "metadata": {},
   "outputs": [],
   "source": []
  }
 ],
 "metadata": {
  "kernelspec": {
   "display_name": "Python 3 (ipykernel)",
   "language": "python",
   "name": "python3"
  },
  "language_info": {
   "codemirror_mode": {
    "name": "ipython",
    "version": 3
   },
   "file_extension": ".py",
   "mimetype": "text/x-python",
   "name": "python",
   "nbconvert_exporter": "python",
   "pygments_lexer": "ipython3",
   "version": "3.12.4"
  }
 },
 "nbformat": 4,
 "nbformat_minor": 5
}
